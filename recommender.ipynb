{
 "cells": [
  {
   "cell_type": "markdown",
   "id": "c3e34df8",
   "metadata": {},
   "source": [
    "## Install Libraries"
   ]
  },
  {
   "cell_type": "code",
   "execution_count": 1,
   "id": "93fbb438-2200-4548-bd72-ab7b4e7c4e6a",
   "metadata": {},
   "outputs": [
    {
     "name": "stdout",
     "output_type": "stream",
     "text": [
      "Defaulting to user installation because normal site-packages is not writeable\n",
      "Requirement already satisfied: scikit-surprise in /common/home/vig4/.local/lib/python3.9/site-packages (1.1.3)\n",
      "Requirement already satisfied: numpy>=1.17.3 in /common/home/vig4/.local/lib/python3.9/site-packages (from scikit-surprise) (1.22.4)\n",
      "Requirement already satisfied: joblib>=1.0.0 in /koko/system/anaconda/envs/python39/lib/python3.9/site-packages (from scikit-surprise) (1.0.1)\n",
      "Requirement already satisfied: scipy>=1.3.2 in /koko/system/anaconda/envs/python39/lib/python3.9/site-packages (from scikit-surprise) (1.6.3)\n",
      "Note: you may need to restart the kernel to use updated packages.\n"
     ]
    }
   ],
   "source": [
    "%pip install scikit-surprise"
   ]
  },
  {
   "cell_type": "markdown",
   "id": "22499ee2",
   "metadata": {},
   "source": [
    "## Import Libraries"
   ]
  },
  {
   "cell_type": "code",
   "execution_count": 2,
   "id": "0fe85a7d-8562-41be-a18c-549e9bdb31b3",
   "metadata": {},
   "outputs": [],
   "source": [
    "from surprise import Dataset, Reader\n",
    "from surprise import KNNBaseline\n",
    "import pandas as pd\n"
   ]
  },
  {
   "cell_type": "markdown",
   "id": "656dba86",
   "metadata": {},
   "source": [
    "## Load Datasets"
   ]
  },
  {
   "cell_type": "code",
   "execution_count": 3,
   "id": "61611e21-33e4-4426-9745-291789d6dcf5",
   "metadata": {},
   "outputs": [
    {
     "data": {
      "text/html": [
       "<div>\n",
       "<style scoped>\n",
       "    .dataframe tbody tr th:only-of-type {\n",
       "        vertical-align: middle;\n",
       "    }\n",
       "\n",
       "    .dataframe tbody tr th {\n",
       "        vertical-align: top;\n",
       "    }\n",
       "\n",
       "    .dataframe thead th {\n",
       "        text-align: right;\n",
       "    }\n",
       "</style>\n",
       "<table border=\"1\" class=\"dataframe\">\n",
       "  <thead>\n",
       "    <tr style=\"text-align: right;\">\n",
       "      <th></th>\n",
       "      <th>movieId</th>\n",
       "      <th>title</th>\n",
       "      <th>genres</th>\n",
       "    </tr>\n",
       "  </thead>\n",
       "  <tbody>\n",
       "    <tr>\n",
       "      <th>0</th>\n",
       "      <td>1</td>\n",
       "      <td>Toy Story (1995)</td>\n",
       "      <td>Adventure|Animation|Children|Comedy|Fantasy</td>\n",
       "    </tr>\n",
       "    <tr>\n",
       "      <th>1</th>\n",
       "      <td>2</td>\n",
       "      <td>Jumanji (1995)</td>\n",
       "      <td>Adventure|Children|Fantasy</td>\n",
       "    </tr>\n",
       "    <tr>\n",
       "      <th>2</th>\n",
       "      <td>3</td>\n",
       "      <td>Grumpier Old Men (1995)</td>\n",
       "      <td>Comedy|Romance</td>\n",
       "    </tr>\n",
       "    <tr>\n",
       "      <th>3</th>\n",
       "      <td>4</td>\n",
       "      <td>Waiting to Exhale (1995)</td>\n",
       "      <td>Comedy|Drama|Romance</td>\n",
       "    </tr>\n",
       "    <tr>\n",
       "      <th>4</th>\n",
       "      <td>5</td>\n",
       "      <td>Father of the Bride Part II (1995)</td>\n",
       "      <td>Comedy</td>\n",
       "    </tr>\n",
       "    <tr>\n",
       "      <th>...</th>\n",
       "      <td>...</td>\n",
       "      <td>...</td>\n",
       "      <td>...</td>\n",
       "    </tr>\n",
       "    <tr>\n",
       "      <th>9737</th>\n",
       "      <td>193581</td>\n",
       "      <td>Black Butler: Book of the Atlantic (2017)</td>\n",
       "      <td>Action|Animation|Comedy|Fantasy</td>\n",
       "    </tr>\n",
       "    <tr>\n",
       "      <th>9738</th>\n",
       "      <td>193583</td>\n",
       "      <td>No Game No Life: Zero (2017)</td>\n",
       "      <td>Animation|Comedy|Fantasy</td>\n",
       "    </tr>\n",
       "    <tr>\n",
       "      <th>9739</th>\n",
       "      <td>193585</td>\n",
       "      <td>Flint (2017)</td>\n",
       "      <td>Drama</td>\n",
       "    </tr>\n",
       "    <tr>\n",
       "      <th>9740</th>\n",
       "      <td>193587</td>\n",
       "      <td>Bungo Stray Dogs: Dead Apple (2018)</td>\n",
       "      <td>Action|Animation</td>\n",
       "    </tr>\n",
       "    <tr>\n",
       "      <th>9741</th>\n",
       "      <td>193609</td>\n",
       "      <td>Andrew Dice Clay: Dice Rules (1991)</td>\n",
       "      <td>Comedy</td>\n",
       "    </tr>\n",
       "  </tbody>\n",
       "</table>\n",
       "<p>9742 rows × 3 columns</p>\n",
       "</div>"
      ],
      "text/plain": [
       "      movieId                                      title   \n",
       "0           1                           Toy Story (1995)  \\\n",
       "1           2                             Jumanji (1995)   \n",
       "2           3                    Grumpier Old Men (1995)   \n",
       "3           4                   Waiting to Exhale (1995)   \n",
       "4           5         Father of the Bride Part II (1995)   \n",
       "...       ...                                        ...   \n",
       "9737   193581  Black Butler: Book of the Atlantic (2017)   \n",
       "9738   193583               No Game No Life: Zero (2017)   \n",
       "9739   193585                               Flint (2017)   \n",
       "9740   193587        Bungo Stray Dogs: Dead Apple (2018)   \n",
       "9741   193609        Andrew Dice Clay: Dice Rules (1991)   \n",
       "\n",
       "                                           genres  \n",
       "0     Adventure|Animation|Children|Comedy|Fantasy  \n",
       "1                      Adventure|Children|Fantasy  \n",
       "2                                  Comedy|Romance  \n",
       "3                            Comedy|Drama|Romance  \n",
       "4                                          Comedy  \n",
       "...                                           ...  \n",
       "9737              Action|Animation|Comedy|Fantasy  \n",
       "9738                     Animation|Comedy|Fantasy  \n",
       "9739                                        Drama  \n",
       "9740                             Action|Animation  \n",
       "9741                                       Comedy  \n",
       "\n",
       "[9742 rows x 3 columns]"
      ]
     },
     "execution_count": 3,
     "metadata": {},
     "output_type": "execute_result"
    }
   ],
   "source": [
    "movies_df = pd.read_csv(\"ml-latest-small/movies.csv\")\n",
    "movies_df\n"
   ]
  },
  {
   "cell_type": "code",
   "execution_count": 4,
   "id": "e64ff200-1711-4a2b-b741-5c28a7b33821",
   "metadata": {},
   "outputs": [],
   "source": [
    "reader = Reader(line_format=\"user item rating timestamp\", sep=\",\", skip_lines=1)\n"
   ]
  },
  {
   "cell_type": "code",
   "execution_count": 5,
   "id": "de1cf9d6-318b-4e26-9065-4c73a8ffb6a5",
   "metadata": {},
   "outputs": [],
   "source": [
    "data = Dataset.load_from_file(\"ml-latest-small/ratings.csv\", reader=reader)\n"
   ]
  },
  {
   "cell_type": "code",
   "execution_count": 6,
   "id": "d4a6f146-70f4-4cd8-91e1-0ea0d1d70de9",
   "metadata": {},
   "outputs": [],
   "source": [
    "trainset = data.build_full_trainset()\n",
    "testset = trainset.build_anti_testset()\n"
   ]
  },
  {
   "cell_type": "markdown",
   "id": "84e2fe2b-2efb-4e51-b912-db412c7c556e",
   "metadata": {},
   "source": [
    "## Movie Recommendation"
   ]
  },
  {
   "cell_type": "code",
   "execution_count": 7,
   "id": "012567d2-0267-408b-8a9e-b0aee46f735a",
   "metadata": {},
   "outputs": [],
   "source": [
    "def get_top_n(user_id, predictions, movies_df, n=10):\n",
    "    pred_df = pd.DataFrame(\n",
    "        predictions, columns=[\"userId\", \"movieId\", \"r_ui\", \"est\", \"details\"]\n",
    "    )\n",
    "    pred_df[[\"userId\", \"movieId\"]] = pred_df[[\"userId\", \"movieId\"]].astype(int)\n",
    "    pred_df = pred_df[pred_df[\"userId\"] == user_id]\n",
    "    pred_df = pd.merge(pred_df, movies_df, on=\"movieId\")\n",
    "    top_n_df = pred_df.nlargest(n, \"est\").reset_index()\n",
    "\n",
    "    return top_n_df[[\"movieId\", \"title\", \"genres\"]]\n"
   ]
  },
  {
   "cell_type": "code",
   "execution_count": 8,
   "id": "8f32f703-f7e5-49d1-a23f-38c7316e9539",
   "metadata": {},
   "outputs": [],
   "source": [
    "algo = KNNBaseline()\n"
   ]
  },
  {
   "cell_type": "code",
   "execution_count": 9,
   "id": "91bab47a-3c9b-4d01-9bf0-5028ab5839c4",
   "metadata": {},
   "outputs": [
    {
     "name": "stdout",
     "output_type": "stream",
     "text": [
      "Estimating biases using als...\n",
      "Computing the msd similarity matrix...\n",
      "Done computing similarity matrix.\n"
     ]
    }
   ],
   "source": [
    "# Predict ratings for all pairs (u, i) that are NOT in the training set.\n",
    "predictions = algo.fit(trainset).test(testset)\n"
   ]
  },
  {
   "cell_type": "code",
   "execution_count": 10,
   "id": "3e55e2c9-5730-49db-884c-eaa594a093cd",
   "metadata": {},
   "outputs": [],
   "source": [
    "# Get top 10 recommendations for user_id 1\n",
    "user_id = 1\n"
   ]
  },
  {
   "cell_type": "code",
   "execution_count": 11,
   "id": "7073c4dd-f820-4556-a184-6b9bd5472a9b",
   "metadata": {},
   "outputs": [
    {
     "data": {
      "text/html": [
       "<div>\n",
       "<style scoped>\n",
       "    .dataframe tbody tr th:only-of-type {\n",
       "        vertical-align: middle;\n",
       "    }\n",
       "\n",
       "    .dataframe tbody tr th {\n",
       "        vertical-align: top;\n",
       "    }\n",
       "\n",
       "    .dataframe thead th {\n",
       "        text-align: right;\n",
       "    }\n",
       "</style>\n",
       "<table border=\"1\" class=\"dataframe\">\n",
       "  <thead>\n",
       "    <tr style=\"text-align: right;\">\n",
       "      <th></th>\n",
       "      <th>movieId</th>\n",
       "      <th>title</th>\n",
       "      <th>genres</th>\n",
       "    </tr>\n",
       "  </thead>\n",
       "  <tbody>\n",
       "    <tr>\n",
       "      <th>0</th>\n",
       "      <td>318</td>\n",
       "      <td>Shawshank Redemption, The (1994)</td>\n",
       "      <td>Crime|Drama</td>\n",
       "    </tr>\n",
       "    <tr>\n",
       "      <th>1</th>\n",
       "      <td>131724</td>\n",
       "      <td>The Jinx: The Life and Deaths of Robert Durst ...</td>\n",
       "      <td>Documentary</td>\n",
       "    </tr>\n",
       "    <tr>\n",
       "      <th>2</th>\n",
       "      <td>720</td>\n",
       "      <td>Wallace &amp; Gromit: The Best of Aardman Animatio...</td>\n",
       "      <td>Adventure|Animation|Comedy</td>\n",
       "    </tr>\n",
       "    <tr>\n",
       "      <th>3</th>\n",
       "      <td>1272</td>\n",
       "      <td>Patton (1970)</td>\n",
       "      <td>Drama|War</td>\n",
       "    </tr>\n",
       "    <tr>\n",
       "      <th>4</th>\n",
       "      <td>5746</td>\n",
       "      <td>Galaxy of Terror (Quest) (1981)</td>\n",
       "      <td>Action|Horror|Mystery|Sci-Fi</td>\n",
       "    </tr>\n",
       "    <tr>\n",
       "      <th>5</th>\n",
       "      <td>5764</td>\n",
       "      <td>Looker (1981)</td>\n",
       "      <td>Drama|Horror|Sci-Fi|Thriller</td>\n",
       "    </tr>\n",
       "    <tr>\n",
       "      <th>6</th>\n",
       "      <td>6835</td>\n",
       "      <td>Alien Contamination (1980)</td>\n",
       "      <td>Action|Horror|Sci-Fi</td>\n",
       "    </tr>\n",
       "    <tr>\n",
       "      <th>7</th>\n",
       "      <td>7899</td>\n",
       "      <td>Master of the Flying Guillotine (Du bi quan wa...</td>\n",
       "      <td>Action</td>\n",
       "    </tr>\n",
       "    <tr>\n",
       "      <th>8</th>\n",
       "      <td>898</td>\n",
       "      <td>Philadelphia Story, The (1940)</td>\n",
       "      <td>Comedy|Drama|Romance</td>\n",
       "    </tr>\n",
       "    <tr>\n",
       "      <th>9</th>\n",
       "      <td>1719</td>\n",
       "      <td>Sweet Hereafter, The (1997)</td>\n",
       "      <td>Drama</td>\n",
       "    </tr>\n",
       "  </tbody>\n",
       "</table>\n",
       "</div>"
      ],
      "text/plain": [
       "   movieId                                              title   \n",
       "0      318                   Shawshank Redemption, The (1994)  \\\n",
       "1   131724  The Jinx: The Life and Deaths of Robert Durst ...   \n",
       "2      720  Wallace & Gromit: The Best of Aardman Animatio...   \n",
       "3     1272                                      Patton (1970)   \n",
       "4     5746                    Galaxy of Terror (Quest) (1981)   \n",
       "5     5764                                      Looker (1981)   \n",
       "6     6835                         Alien Contamination (1980)   \n",
       "7     7899  Master of the Flying Guillotine (Du bi quan wa...   \n",
       "8      898                     Philadelphia Story, The (1940)   \n",
       "9     1719                        Sweet Hereafter, The (1997)   \n",
       "\n",
       "                         genres  \n",
       "0                   Crime|Drama  \n",
       "1                   Documentary  \n",
       "2    Adventure|Animation|Comedy  \n",
       "3                     Drama|War  \n",
       "4  Action|Horror|Mystery|Sci-Fi  \n",
       "5  Drama|Horror|Sci-Fi|Thriller  \n",
       "6          Action|Horror|Sci-Fi  \n",
       "7                        Action  \n",
       "8          Comedy|Drama|Romance  \n",
       "9                         Drama  "
      ]
     },
     "execution_count": 11,
     "metadata": {},
     "output_type": "execute_result"
    }
   ],
   "source": [
    "top_n_df = get_top_n(user_id, predictions, movies_df, n=10)\n",
    "top_n_df\n"
   ]
  }
 ],
 "metadata": {
  "kernelspec": {
   "display_name": "Python 3",
   "language": "python",
   "name": "python3"
  },
  "language_info": {
   "codemirror_mode": {
    "name": "ipython",
    "version": 3
   },
   "file_extension": ".py",
   "mimetype": "text/x-python",
   "name": "python",
   "nbconvert_exporter": "python",
   "pygments_lexer": "ipython3",
   "version": "3.9.5"
  }
 },
 "nbformat": 4,
 "nbformat_minor": 5
}
