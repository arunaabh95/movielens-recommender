{
 "cells": [
  {
   "attachments": {},
   "cell_type": "markdown",
   "id": "c3e34df8",
   "metadata": {},
   "source": [
    "## Install Libraries"
   ]
  },
  {
   "cell_type": "code",
   "execution_count": 1,
   "id": "93fbb438-2200-4548-bd72-ab7b4e7c4e6a",
   "metadata": {},
   "outputs": [
    {
     "name": "stdout",
     "output_type": "stream",
     "text": [
      "Defaulting to user installation because normal site-packages is not writeable\n",
      "Requirement already satisfied: scikit-surprise in /common/home/vig4/.local/lib/python3.9/site-packages (1.1.3)\n",
      "Requirement already satisfied: numpy>=1.17.3 in /common/home/vig4/.local/lib/python3.9/site-packages (from scikit-surprise) (1.22.4)\n",
      "Requirement already satisfied: joblib>=1.0.0 in /koko/system/anaconda/envs/python39/lib/python3.9/site-packages (from scikit-surprise) (1.0.1)\n",
      "Requirement already satisfied: scipy>=1.3.2 in /koko/system/anaconda/envs/python39/lib/python3.9/site-packages (from scikit-surprise) (1.6.3)\n",
      "Note: you may need to restart the kernel to use updated packages.\n"
     ]
    }
   ],
   "source": [
    "%pip install scikit-surprise"
   ]
  },
  {
   "cell_type": "markdown",
   "id": "22499ee2",
   "metadata": {},
   "source": [
    "## Import Libraries"
   ]
  },
  {
   "cell_type": "code",
   "execution_count": 2,
   "id": "0fe85a7d-8562-41be-a18c-549e9bdb31b3",
   "metadata": {},
   "outputs": [],
   "source": [
    "from collections import defaultdict\n",
    "from surprise import accuracy, Dataset, Reader, KNNBasic\n",
    "from surprise.model_selection import train_test_split\n",
    "import pandas as pd\n"
   ]
  },
  {
   "cell_type": "markdown",
   "id": "656dba86",
   "metadata": {},
   "source": [
    "## Load Datasets"
   ]
  },
  {
   "cell_type": "code",
   "execution_count": 3,
   "id": "61611e21-33e4-4426-9745-291789d6dcf5",
   "metadata": {},
   "outputs": [
    {
     "data": {
      "text/html": [
       "<div>\n",
       "<style scoped>\n",
       "    .dataframe tbody tr th:only-of-type {\n",
       "        vertical-align: middle;\n",
       "    }\n",
       "\n",
       "    .dataframe tbody tr th {\n",
       "        vertical-align: top;\n",
       "    }\n",
       "\n",
       "    .dataframe thead th {\n",
       "        text-align: right;\n",
       "    }\n",
       "</style>\n",
       "<table border=\"1\" class=\"dataframe\">\n",
       "  <thead>\n",
       "    <tr style=\"text-align: right;\">\n",
       "      <th></th>\n",
       "      <th>movieId</th>\n",
       "      <th>title</th>\n",
       "      <th>genres</th>\n",
       "    </tr>\n",
       "  </thead>\n",
       "  <tbody>\n",
       "    <tr>\n",
       "      <th>0</th>\n",
       "      <td>1</td>\n",
       "      <td>Toy Story (1995)</td>\n",
       "      <td>Adventure|Animation|Children|Comedy|Fantasy</td>\n",
       "    </tr>\n",
       "    <tr>\n",
       "      <th>1</th>\n",
       "      <td>2</td>\n",
       "      <td>Jumanji (1995)</td>\n",
       "      <td>Adventure|Children|Fantasy</td>\n",
       "    </tr>\n",
       "    <tr>\n",
       "      <th>2</th>\n",
       "      <td>3</td>\n",
       "      <td>Grumpier Old Men (1995)</td>\n",
       "      <td>Comedy|Romance</td>\n",
       "    </tr>\n",
       "    <tr>\n",
       "      <th>3</th>\n",
       "      <td>4</td>\n",
       "      <td>Waiting to Exhale (1995)</td>\n",
       "      <td>Comedy|Drama|Romance</td>\n",
       "    </tr>\n",
       "    <tr>\n",
       "      <th>4</th>\n",
       "      <td>5</td>\n",
       "      <td>Father of the Bride Part II (1995)</td>\n",
       "      <td>Comedy</td>\n",
       "    </tr>\n",
       "    <tr>\n",
       "      <th>...</th>\n",
       "      <td>...</td>\n",
       "      <td>...</td>\n",
       "      <td>...</td>\n",
       "    </tr>\n",
       "    <tr>\n",
       "      <th>9737</th>\n",
       "      <td>193581</td>\n",
       "      <td>Black Butler: Book of the Atlantic (2017)</td>\n",
       "      <td>Action|Animation|Comedy|Fantasy</td>\n",
       "    </tr>\n",
       "    <tr>\n",
       "      <th>9738</th>\n",
       "      <td>193583</td>\n",
       "      <td>No Game No Life: Zero (2017)</td>\n",
       "      <td>Animation|Comedy|Fantasy</td>\n",
       "    </tr>\n",
       "    <tr>\n",
       "      <th>9739</th>\n",
       "      <td>193585</td>\n",
       "      <td>Flint (2017)</td>\n",
       "      <td>Drama</td>\n",
       "    </tr>\n",
       "    <tr>\n",
       "      <th>9740</th>\n",
       "      <td>193587</td>\n",
       "      <td>Bungo Stray Dogs: Dead Apple (2018)</td>\n",
       "      <td>Action|Animation</td>\n",
       "    </tr>\n",
       "    <tr>\n",
       "      <th>9741</th>\n",
       "      <td>193609</td>\n",
       "      <td>Andrew Dice Clay: Dice Rules (1991)</td>\n",
       "      <td>Comedy</td>\n",
       "    </tr>\n",
       "  </tbody>\n",
       "</table>\n",
       "<p>9742 rows × 3 columns</p>\n",
       "</div>"
      ],
      "text/plain": [
       "      movieId                                      title   \n",
       "0           1                           Toy Story (1995)  \\\n",
       "1           2                             Jumanji (1995)   \n",
       "2           3                    Grumpier Old Men (1995)   \n",
       "3           4                   Waiting to Exhale (1995)   \n",
       "4           5         Father of the Bride Part II (1995)   \n",
       "...       ...                                        ...   \n",
       "9737   193581  Black Butler: Book of the Atlantic (2017)   \n",
       "9738   193583               No Game No Life: Zero (2017)   \n",
       "9739   193585                               Flint (2017)   \n",
       "9740   193587        Bungo Stray Dogs: Dead Apple (2018)   \n",
       "9741   193609        Andrew Dice Clay: Dice Rules (1991)   \n",
       "\n",
       "                                           genres  \n",
       "0     Adventure|Animation|Children|Comedy|Fantasy  \n",
       "1                      Adventure|Children|Fantasy  \n",
       "2                                  Comedy|Romance  \n",
       "3                            Comedy|Drama|Romance  \n",
       "4                                          Comedy  \n",
       "...                                           ...  \n",
       "9737              Action|Animation|Comedy|Fantasy  \n",
       "9738                     Animation|Comedy|Fantasy  \n",
       "9739                                        Drama  \n",
       "9740                             Action|Animation  \n",
       "9741                                       Comedy  \n",
       "\n",
       "[9742 rows x 3 columns]"
      ]
     },
     "execution_count": 3,
     "metadata": {},
     "output_type": "execute_result"
    }
   ],
   "source": [
    "movies_df = pd.read_csv(\"ml-latest-small/movies.csv\")\n",
    "movies_df\n"
   ]
  },
  {
   "cell_type": "code",
   "execution_count": 4,
   "id": "e64ff200-1711-4a2b-b741-5c28a7b33821",
   "metadata": {},
   "outputs": [],
   "source": [
    "reader = Reader(line_format=\"user item rating timestamp\", sep=\",\", skip_lines=1)\n"
   ]
  },
  {
   "cell_type": "code",
   "execution_count": 5,
   "id": "de1cf9d6-318b-4e26-9065-4c73a8ffb6a5",
   "metadata": {},
   "outputs": [],
   "source": [
    "data = Dataset.load_from_file(\"ml-latest-small/ratings.csv\", reader=reader)\n"
   ]
  },
  {
   "cell_type": "code",
   "execution_count": 6,
   "id": "d4a6f146-70f4-4cd8-91e1-0ea0d1d70de9",
   "metadata": {},
   "outputs": [],
   "source": [
    "trainset, testset = train_test_split(data, test_size=0.2)\n"
   ]
  },
  {
   "attachments": {},
   "cell_type": "markdown",
   "id": "84e2fe2b-2efb-4e51-b912-db412c7c556e",
   "metadata": {},
   "source": [
    "## Rating Prediction\n"
   ]
  },
  {
   "cell_type": "code",
   "execution_count": 7,
   "id": "8f32f703-f7e5-49d1-a23f-38c7316e9539",
   "metadata": {},
   "outputs": [],
   "source": [
    "algo = KNNBasic()\n"
   ]
  },
  {
   "cell_type": "code",
   "execution_count": 8,
   "id": "91bab47a-3c9b-4d01-9bf0-5028ab5839c4",
   "metadata": {},
   "outputs": [
    {
     "name": "stdout",
     "output_type": "stream",
     "text": [
      "Computing the msd similarity matrix...\n",
      "Done computing similarity matrix.\n"
     ]
    }
   ],
   "source": [
    "predictions = algo.fit(trainset).test(testset)\n"
   ]
  },
  {
   "cell_type": "code",
   "execution_count": 9,
   "id": "aa3b802e-2493-4b1a-80a5-70cb6222db76",
   "metadata": {},
   "outputs": [
    {
     "name": "stdout",
     "output_type": "stream",
     "text": [
      "RMSE: 0.9482\n"
     ]
    },
    {
     "data": {
      "text/plain": [
       "0.9481597267316231"
      ]
     },
     "execution_count": 9,
     "metadata": {},
     "output_type": "execute_result"
    }
   ],
   "source": [
    "accuracy.rmse(predictions)\n"
   ]
  },
  {
   "cell_type": "code",
   "execution_count": 10,
   "id": "04b6e3f0-1c9c-4a78-80d3-e3b91b79241c",
   "metadata": {},
   "outputs": [
    {
     "name": "stdout",
     "output_type": "stream",
     "text": [
      "MAE:  0.7265\n"
     ]
    },
    {
     "data": {
      "text/plain": [
       "0.7265135449161088"
      ]
     },
     "execution_count": 10,
     "metadata": {},
     "output_type": "execute_result"
    }
   ],
   "source": [
    "accuracy.mae(predictions)\n"
   ]
  },
  {
   "attachments": {},
   "cell_type": "markdown",
   "id": "7417f4c1-4fea-4578-a9f9-9cd77ac88771",
   "metadata": {},
   "source": [
    "## Movie Recommendation\n"
   ]
  },
  {
   "cell_type": "code",
   "execution_count": 11,
   "id": "012567d2-0267-408b-8a9e-b0aee46f735a",
   "metadata": {},
   "outputs": [],
   "source": [
    "def get_top_n(user_id, predictions, movies_df, n=10):\n",
    "    pred_df = pd.DataFrame(\n",
    "        predictions, columns=[\"userId\", \"movieId\", \"r_ui\", \"est\", \"details\"]\n",
    "    )\n",
    "    pred_df[[\"userId\", \"movieId\"]] = pred_df[[\"userId\", \"movieId\"]].astype(int)\n",
    "    pred_df = pred_df[pred_df[\"userId\"] == user_id]\n",
    "    pred_df = pd.merge(pred_df, movies_df, on=\"movieId\")\n",
    "    top_n_df = pred_df.nlargest(n, \"est\").reset_index()\n",
    "\n",
    "    return top_n_df[[\"movieId\", \"title\", \"genres\"]]\n"
   ]
  },
  {
   "cell_type": "code",
   "execution_count": 12,
   "id": "fae78057-619a-446a-b81c-3f3281f4f2d7",
   "metadata": {},
   "outputs": [],
   "source": [
    "# Predict ratings for all pairs (u, i) that are NOT in the training set.\n",
    "anti_testset = trainset.build_anti_testset(fill=0)\n",
    "predictions = algo.test(anti_testset)\n"
   ]
  },
  {
   "cell_type": "code",
   "execution_count": 13,
   "id": "7073c4dd-f820-4556-a184-6b9bd5472a9b",
   "metadata": {},
   "outputs": [
    {
     "data": {
      "text/html": [
       "<div>\n",
       "<style scoped>\n",
       "    .dataframe tbody tr th:only-of-type {\n",
       "        vertical-align: middle;\n",
       "    }\n",
       "\n",
       "    .dataframe tbody tr th {\n",
       "        vertical-align: top;\n",
       "    }\n",
       "\n",
       "    .dataframe thead th {\n",
       "        text-align: right;\n",
       "    }\n",
       "</style>\n",
       "<table border=\"1\" class=\"dataframe\">\n",
       "  <thead>\n",
       "    <tr style=\"text-align: right;\">\n",
       "      <th></th>\n",
       "      <th>movieId</th>\n",
       "      <th>title</th>\n",
       "      <th>genres</th>\n",
       "    </tr>\n",
       "  </thead>\n",
       "  <tbody>\n",
       "    <tr>\n",
       "      <th>0</th>\n",
       "      <td>3223</td>\n",
       "      <td>Zed &amp; Two Noughts, A (1985)</td>\n",
       "      <td>Drama</td>\n",
       "    </tr>\n",
       "    <tr>\n",
       "      <th>1</th>\n",
       "      <td>74226</td>\n",
       "      <td>Dream of Light (a.k.a. Quince Tree Sun, The) (...</td>\n",
       "      <td>Documentary|Drama</td>\n",
       "    </tr>\n",
       "    <tr>\n",
       "      <th>2</th>\n",
       "      <td>4708</td>\n",
       "      <td>Marat/Sade (1966)</td>\n",
       "      <td>Drama|Musical</td>\n",
       "    </tr>\n",
       "    <tr>\n",
       "      <th>3</th>\n",
       "      <td>124404</td>\n",
       "      <td>Snowflake, the White Gorilla (2011)</td>\n",
       "      <td>Adventure|Animation|Children|Comedy</td>\n",
       "    </tr>\n",
       "    <tr>\n",
       "      <th>4</th>\n",
       "      <td>140265</td>\n",
       "      <td>George Carlin: Jammin' in New York (1992)</td>\n",
       "      <td>Comedy</td>\n",
       "    </tr>\n",
       "    <tr>\n",
       "      <th>5</th>\n",
       "      <td>149566</td>\n",
       "      <td>Unicorn City (2012)</td>\n",
       "      <td>Comedy|Romance</td>\n",
       "    </tr>\n",
       "    <tr>\n",
       "      <th>6</th>\n",
       "      <td>5890</td>\n",
       "      <td>Elling (2001)</td>\n",
       "      <td>Comedy|Drama</td>\n",
       "    </tr>\n",
       "    <tr>\n",
       "      <th>7</th>\n",
       "      <td>59814</td>\n",
       "      <td>Ex Drummer (2007)</td>\n",
       "      <td>Comedy|Crime|Drama|Horror</td>\n",
       "    </tr>\n",
       "    <tr>\n",
       "      <th>8</th>\n",
       "      <td>3771</td>\n",
       "      <td>The Golden Voyage of Sinbad (1973)</td>\n",
       "      <td>Action|Adventure|Fantasy</td>\n",
       "    </tr>\n",
       "    <tr>\n",
       "      <th>9</th>\n",
       "      <td>6086</td>\n",
       "      <td>I, the Jury (1982)</td>\n",
       "      <td>Crime|Drama|Thriller</td>\n",
       "    </tr>\n",
       "  </tbody>\n",
       "</table>\n",
       "</div>"
      ],
      "text/plain": [
       "   movieId                                              title   \n",
       "0     3223                        Zed & Two Noughts, A (1985)  \\\n",
       "1    74226  Dream of Light (a.k.a. Quince Tree Sun, The) (...   \n",
       "2     4708                                  Marat/Sade (1966)   \n",
       "3   124404                Snowflake, the White Gorilla (2011)   \n",
       "4   140265          George Carlin: Jammin' in New York (1992)   \n",
       "5   149566                                Unicorn City (2012)   \n",
       "6     5890                                      Elling (2001)   \n",
       "7    59814                                  Ex Drummer (2007)   \n",
       "8     3771                 The Golden Voyage of Sinbad (1973)   \n",
       "9     6086                                 I, the Jury (1982)   \n",
       "\n",
       "                                genres  \n",
       "0                                Drama  \n",
       "1                    Documentary|Drama  \n",
       "2                        Drama|Musical  \n",
       "3  Adventure|Animation|Children|Comedy  \n",
       "4                               Comedy  \n",
       "5                       Comedy|Romance  \n",
       "6                         Comedy|Drama  \n",
       "7            Comedy|Crime|Drama|Horror  \n",
       "8             Action|Adventure|Fantasy  \n",
       "9                 Crime|Drama|Thriller  "
      ]
     },
     "execution_count": 13,
     "metadata": {},
     "output_type": "execute_result"
    }
   ],
   "source": [
    "top_n_df = get_top_n(123, predictions, movies_df, n=10)\n",
    "top_n_df\n"
   ]
  },
  {
   "cell_type": "code",
   "execution_count": 14,
   "id": "ffd6ea76-7b90-4e20-9226-187b44c88d05",
   "metadata": {},
   "outputs": [],
   "source": [
    "def precision_recall_at_k(predictions, k=10, threshold=3.5):\n",
    "    \"\"\"Return precision and recall at k metrics for each user\"\"\"\n",
    "\n",
    "    # First map the predictions to each user.\n",
    "    user_est_true = defaultdict(list)\n",
    "    for uid, _, true_r, est, _ in predictions:\n",
    "        user_est_true[uid].append((est, true_r))\n",
    "\n",
    "    precisions = dict()\n",
    "    recalls = dict()\n",
    "    for uid, user_ratings in user_est_true.items():\n",
    "        # Sort user ratings by estimated value\n",
    "        user_ratings.sort(key=lambda x: x[0], reverse=True)\n",
    "\n",
    "        # Number of relevant items\n",
    "        n_rel = sum((true_r >= threshold) for (_, true_r) in user_ratings)\n",
    "\n",
    "        # Number of recommended items in top k\n",
    "        n_rec_k = sum((est >= threshold) for (est, _) in user_ratings[:k])\n",
    "\n",
    "        # Number of relevant and recommended items in top k\n",
    "        n_rel_and_rec_k = sum(\n",
    "            ((true_r >= threshold) and (est >= threshold))\n",
    "            for (est, true_r) in user_ratings[:k]\n",
    "        )\n",
    "\n",
    "        # Precision@K: Proportion of recommended items that are relevant\n",
    "        # When n_rec_k is 0, Precision is undefined. We here set it to 0.\n",
    "\n",
    "        precisions[uid] = n_rel_and_rec_k / n_rec_k if n_rec_k != 0 else 0\n",
    "\n",
    "        # Recall@K: Proportion of relevant items that are recommended\n",
    "        # When n_rel is 0, Recall is undefined. We here set it to 0.\n",
    "\n",
    "        recalls[uid] = n_rel_and_rec_k / n_rel if n_rel != 0 else 0\n",
    "\n",
    "    precision = sum(prec for prec in precisions.values()) / len(precisions)\n",
    "    recall = sum(rec for rec in recalls.values()) / len(recalls)\n",
    "\n",
    "    return precision, recall\n"
   ]
  },
  {
   "cell_type": "code",
   "execution_count": 15,
   "id": "ada08d1e-4933-402f-b654-6df186f1c182",
   "metadata": {},
   "outputs": [
    {
     "name": "stdout",
     "output_type": "stream",
     "text": [
      "Precision: 0.6774817850637523\n",
      "Recall: 0.32808949972368945\n",
      "F-measure: 0.4420863310162305\n"
     ]
    }
   ],
   "source": [
    "predictions = algo.test(testset)\n",
    "precision, recall = precision_recall_at_k(predictions, k=10, threshold=4)\n",
    "f1_score = 2 * (precision * recall) / (precision + recall)\n",
    "\n",
    "print(f\"Precision: {precision}\")\n",
    "print(f\"Recall: {recall}\")\n",
    "print(f\"F-measure: {f1_score}\")\n"
   ]
  }
 ],
 "metadata": {
  "kernelspec": {
   "display_name": "Python 3",
   "language": "python",
   "name": "python3"
  },
  "language_info": {
   "codemirror_mode": {
    "name": "ipython",
    "version": 3
   },
   "file_extension": ".py",
   "mimetype": "text/x-python",
   "name": "python",
   "nbconvert_exporter": "python",
   "pygments_lexer": "ipython3",
   "version": "3.9.5"
  }
 },
 "nbformat": 4,
 "nbformat_minor": 5
}
